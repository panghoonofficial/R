{
 "cells": [
  {
   "cell_type": "markdown",
   "metadata": {},
   "source": [
    "# NetworkX 파이썬 패키지를 이용한 SNA"
   ]
  },
  {
   "cell_type": "markdown",
   "metadata": {},
   "source": [
    "## NetworkX란? 그래프와 네트워크 연구를 위한 파이썬 라이브러리"
   ]
  },
  {
   "cell_type": "code",
   "execution_count": 34,
   "metadata": {},
   "outputs": [],
   "source": [
    "g = nx.Graph() # g라는 변수명에 네트워크의 속성 부여"
   ]
  },
  {
   "cell_type": "code",
   "execution_count": 35,
   "metadata": {},
   "outputs": [
    {
     "name": "stderr",
     "output_type": "stream",
     "text": [
      "C:\\ana\\lib\\site-packages\\networkx\\drawing\\nx_pylab.py:579: MatplotlibDeprecationWarning: \n",
      "The iterable function was deprecated in Matplotlib 3.1 and will be removed in 3.3. Use np.iterable instead.\n",
      "  if not cb.iterable(width):\n"
     ]
    },
    {
     "data": {
      "image/png": "[encoded data removed]",
      "text/plain": [
       "<Figure size 432x288 with 1 Axes>"
      ]
     },
     "metadata": {},
     "output_type": "display_data"
    }
   ],
   "source": [
    "g.add_node(1) # 노드 '1' 추가\n",
    "g.add_nodes_from([2,3]) # 노드 '2', '3' 추가\n",
    "g.add_edge(1,2) # 노드 '1'과 '2' 사이의 링크 형성\n",
    "nx.draw(g,with_labels = True  # 'g' 네트워크 그림 그리기"
   ]
  },
  {
   "cell_type": "code",
   "execution_count": 48,
   "metadata": {},
   "outputs": [
    {
     "data": {
      "text/plain": [
       "NodeView(('apple', 'kiwi', 'banana', 'mango'))"
      ]
     },
     "execution_count": 48,
     "metadata": {},
     "output_type": "execute_result"
    }
   ],
   "source": [
    "g1 = nx.Graph() # 'g1' 라는 변수명에 네트워크 속성 부여\n",
    "g1.add_node('apple') # g1에 'apple' 노드 추가\n",
    "g1.add_node('kiwi',kind='fruit') # g1에 'kiwi' 노드를 'kind'라는 속성과 함께 추가\n",
    "\n",
    "fruits = ['banana','mango'] # 'fruits' 이름의 list 형성\n",
    "g1.add_nodes_from(fruits) # list 항목들을 node에 추가\n",
    "g1.nodes()"
   ]
  },
  {
   "cell_type": "code",
   "execution_count": 49,
   "metadata": {},
   "outputs": [
    {
     "data": {
      "text/plain": [
       "NodeDataView({'apple': {'kind': 'fruit'}, 'kiwi': {'kind': 'fruit'}, 'banana': {'kind': 'fruit'}, 'mango': {'kind': 'fruit'}})"
      ]
     },
     "execution_count": 49,
     "metadata": {},
     "output_type": "execute_result"
    }
   ],
   "source": [
    "g1.node['kiwi']['kind'] = 'fruit' #기존 노드 'kiwi'에 'kind' 속성을 'fruit'이라 할당\n",
    "g1.add_node('kiwi',kind='fruit') #새 node 'kiwi'에 'kind' 속성을 'fruit'이라 할당 \n",
    "g1.add_nodes_from(['banana','apple','mango'],kind='fruit')\n",
    "# list에 동일한 속성 부여\n",
    " \n",
    "g1.node['kiwi'] \n",
    "g1.nodes()\n",
    "g1.nodes(data=True)"
   ]
  },
  {
   "cell_type": "code",
   "execution_count": 50,
   "metadata": {},
   "outputs": [
    {
     "data": {
      "text/plain": [
       "EdgeView([('apple', 'banana'), ('apple', 'mango'), ('apple', 'kiwi')])"
      ]
     },
     "execution_count": 50,
     "metadata": {},
     "output_type": "execute_result"
    }
   ],
   "source": [
    "g1 = nx.Graph()\n",
    "g1.add_edge('apple','banana') # 엣지 추가\n",
    "edges = [('apple','mango'),('apple','kiwi')] # edges 라는 변수명에 list로 edge추가\n",
    "g1.add_edges_from(edges) \n",
    "g1.edges()"
   ]
  },
  {
   "cell_type": "code",
   "execution_count": 52,
   "metadata": {},
   "outputs": [
    {
     "data": {
      "image/png": "[encoded data removed]",
      "text/plain": [
       "<Figure size 432x288 with 1 Axes>"
      ]
     },
     "metadata": {},
     "output_type": "display_data"
    }
   ],
   "source": [
    "nx.draw(g1,with_labels = True) # 'g1' 네트워크 그림 그리기"
   ]
  },
  {
   "cell_type": "markdown",
   "metadata": {},
   "source": [
    "## 응용: NetworkX를 이용한 왕좌의 게임 등장인물 네트워크 분석"
   ]
  },
  {
   "cell_type": "code",
   "execution_count": 31,
   "metadata": {},
   "outputs": [],
   "source": [
    "# 필요한 라이브러리 호출\n",
    "import networkx as nx\n",
    "import pandas as pd\n",
    "import matplotlib.pyplot as plt\n",
    "import itertools\n",
    "import os \n",
    "\n",
    "os.chdir('C:/Users/신창훈/Downloads')\n",
    "all_books = ['asoiaf-all-edges.csv', 'asoiaf-all-nodes.csv']\n",
    "\n",
    "li = []\n",
    "for f in all_books:\n",
    "    tmp = pd.read_csv(f)\n",
    "    li.append(tmp)\n",
    "# for 문을 활용해 불러온 데이터들을 빈 리스트에 할당"
   ]
  },
  {
   "cell_type": "code",
   "execution_count": 32,
   "metadata": {},
   "outputs": [
    {
     "name": "stdout",
     "output_type": "stream",
     "text": [
      "797\n",
      "2824\n"
     ]
    },
    {
     "name": "stderr",
     "output_type": "stream",
     "text": [
      "C:\\ana\\lib\\site-packages\\ipykernel_launcher.py:1: FutureWarning: Sorting because non-concatenation axis is not aligned. A future version\n",
      "of pandas will change to not sort by default.\n",
      "\n",
      "To accept the future behavior, pass 'sort=False'.\n",
      "\n",
      "To retain the current behavior and silence the warning, pass 'sort=True'.\n",
      "\n",
      "  \"\"\"Entry point for launching an IPython kernel.\n"
     ]
    }
   ],
   "source": [
    "df = pd.concat(li, axis=0, ignore_index=True) #합치기\n",
    "df = df[['Source', 'Target']] #source, target 컬럼만 남기기\n",
    "df.drop_duplicates(subset=['Source', 'Target'], inplace=True) #겹치는 데이터 삭제 \n",
    "\n",
    "G = nx.from_pandas_edgelist(df,  source='Source', target='Target')\n",
    "\n",
    "print(len(G.nodes())) \n",
    "print(len(G.edges())) "
   ]
  },
  {
   "cell_type": "code",
   "execution_count": 33,
   "metadata": {},
   "outputs": [
    {
     "data": {
      "text/plain": [
       "[('Tyrion-Lannister', 0.47573472515362913),\n",
       " ('Robert-Baratheon', 0.4586951220574275),\n",
       " ('Eddard-Stark', 0.4552759497026417),\n",
       " ('Cersei-Lannister', 0.45397441754225676),\n",
       " ('Jaime-Lannister', 0.4513935510411638)]"
      ]
     },
     "execution_count": 33,
     "metadata": {},
     "output_type": "execute_result"
    }
   ],
   "source": [
    "# 매개중심성 척도 계산\n",
    "bet_cen = nx.betweenness_centrality(G)\n",
    "sorted(bet_cen.items(), key=lambda x:x[1], reverse=True)[0:5]\n",
    "\n",
    "# 연걸중심성 척도 계산\n",
    "deg_cen = nx.degree_centrality(G)\n",
    "sorted(deg_cen.items(), key=lambda x:x[1], reverse=True)[0:5]\n",
    "\n",
    "# page_rank 척도 계산\n",
    "page_rank = nx.pagerank(G)\n",
    "sorted(page_rank.items(), key=lambda x:x[1], reverse=True)[0:5]\n",
    "\n",
    "# 근접중심성 척도 계산\n",
    "clos_cen = nx.closeness_centrality(G)\n",
    "sorted(clos_cen.items(), key=lambda x:x[1], reverse=True)[0:5]"
   ]
  }
 ],
 "metadata": {
  "kernelspec": {
   "display_name": "Python 3",
   "language": "python",
   "name": "python3"
  },
  "language_info": {
   "codemirror_mode": {
    "name": "ipython",
    "version": 3
   },
   "file_extension": ".py",
   "mimetype": "text/x-python",
   "name": "python",
   "nbconvert_exporter": "python",
   "pygments_lexer": "ipython3",
   "version": "3.7.4"
  }
 },
 "nbformat": 4,
 "nbformat_minor": 2
}
